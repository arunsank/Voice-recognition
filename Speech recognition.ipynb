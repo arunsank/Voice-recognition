{
 "cells": [
  {
   "cell_type": "code",
   "execution_count": 1,
   "metadata": {},
   "outputs": [
    {
     "name": "stdout",
     "output_type": "stream",
     "text": [
      "curses is not supported on this machine (please install/reinstall curses for an optimal experience)\n"
     ]
    }
   ],
   "source": [
    "import tflearn"
   ]
  },
  {
   "cell_type": "code",
   "execution_count": 2,
   "metadata": {
    "collapsed": true
   },
   "outputs": [],
   "source": [
    "#Import pannous speechdata module\n",
    "import speech_data"
   ]
  },
  {
   "cell_type": "code",
   "execution_count": 3,
   "metadata": {
    "collapsed": true
   },
   "outputs": [],
   "source": [
    "\"\"\"\n",
    "Parameters \n",
    "Learning_rate - If the training rate is large the model would converge a lot faster \n",
    "but there could be a compromise on the accuracy. If the learning rate is small the \n",
    "model would train slower but would be a lot accurate. So there is a trade off with \n",
    "this always and  we find the optimal value for better performance.\n",
    "\"\"\"\n",
    "learning_rate= 0.0001\n",
    "#learning_rate= 0.1\n"
   ]
  },
  {
   "cell_type": "code",
   "execution_count": 4,
   "metadata": {},
   "outputs": [
    {
     "name": "stdout",
     "output_type": "stream",
     "text": [
      "Looking for data spoken_numbers_pcm.tar in data/\n",
      "Extracting data/spoken_numbers_pcm.tar to data/\n",
      "Data ready!\n",
      "loaded batch of 2402 files\n"
     ]
    }
   ],
   "source": [
    "#download a set of labeled speech files\n",
    "batch = speech_data.mfcc_batch_generator(2000)\n",
    "word_batch = speech_data.mfcc_batch_generator(2000)\n",
    "X,Y = next(batch)"
   ]
  },
  {
   "cell_type": "code",
   "execution_count": 5,
   "metadata": {
    "collapsed": true
   },
   "outputs": [],
   "source": [
    "#Train test split"
   ]
  },
  {
   "cell_type": "code",
   "execution_count": 5,
   "metadata": {
    "collapsed": true
   },
   "outputs": [],
   "source": [
    "trainX,trainY= X[:1600],Y[:1600]\n",
    "testX,testY= X[1600:2000],Y[1600:2000]"
   ]
  },
  {
   "cell_type": "code",
   "execution_count": 6,
   "metadata": {
    "collapsed": true
   },
   "outputs": [],
   "source": [
    "# Sequence of sound waves\n",
    "net = tflearn.input_data([None, 20, 80])\n",
    "net = tflearn.lstm(net,128,dropout = 0.9)\n",
    "net = tflearn.fully_connected(net, 10, activation='softmax')\n",
    "net = tflearn.regression(net, optimizer = 'adam', learning_rate = learning_rate, loss='categorical_crossentropy')\n",
    "model = tflearn.DNN(net, tensorboard_verbose= 1)"
   ]
  },
  {
   "cell_type": "code",
   "execution_count": null,
   "metadata": {
    "collapsed": true
   },
   "outputs": [],
   "source": []
  },
  {
   "cell_type": "code",
   "execution_count": 7,
   "metadata": {},
   "outputs": [
    {
     "name": "stdout",
     "output_type": "stream",
     "text": [
      "Training Step: 24999  | total loss: \u001b[1m\u001b[32m0.10042\u001b[0m\u001b[0m | time: 1.919s\n",
      "| Adam | epoch: 1000 | loss: 0.10042 - acc: 0.9653 -- iter: 1536/1600\n",
      "Training Step: 25000  | total loss: \u001b[1m\u001b[32m0.10270\u001b[0m\u001b[0m | time: 3.012s\n",
      "| Adam | epoch: 1000 | loss: 0.10270 - acc: 0.9641 | val_loss: 1.15187 - val_acc: 0.7000 -- iter: 1600/1600\n",
      "--\n"
     ]
    }
   ],
   "source": [
    "model.fit(trainX, trainY,n_epoch =1000,validation_set= (testX,testY), show_metric= True, batch_size= 64)"
   ]
  },
  {
   "cell_type": "code",
   "execution_count": null,
   "metadata": {
    "collapsed": true
   },
   "outputs": [],
   "source": []
  }
 ],
 "metadata": {
  "kernelspec": {
   "display_name": "Python 3",
   "language": "python",
   "name": "python3"
  },
  "language_info": {
   "codemirror_mode": {
    "name": "ipython",
    "version": 3
   },
   "file_extension": ".py",
   "mimetype": "text/x-python",
   "name": "python",
   "nbconvert_exporter": "python",
   "pygments_lexer": "ipython3",
   "version": "3.6.1"
  }
 },
 "nbformat": 4,
 "nbformat_minor": 2
}
